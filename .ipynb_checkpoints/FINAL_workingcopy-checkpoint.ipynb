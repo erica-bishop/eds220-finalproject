{
 "cells": [
  {
   "cell_type": "markdown",
   "id": "2646a34e-a634-47ac-9fe7-73bf40ece8ae",
   "metadata": {},
   "source": [
    "# iNaturalist Data from the Global Biodiversity Information Facility (GBIF): Dataset Overview and Use Case Examples\n",
    "## EDS 220, Fall 2022\n",
    "\n",
    "This notebook will help you navigate, download, and use iNaturalist data from GBIF."
   ]
  },
  {
   "cell_type": "markdown",
   "id": "dc47afd0-adb0-4d5b-8903-992b7904322e",
   "metadata": {},
   "source": [
    "#### Authors\n",
    "All authors are affiliated with the Bren School of Environmental Science and Management at the University of California Santa Barbara\n",
    "- Kiran Favre, Masters of Environmental Data Science, 2023, kfavre@ucsb.edu\n",
    "- Jillian Allison, Masters of Environmental Data Science, 2023, jilliannallison@ucsb.edu\n",
    "- Erica Bishop, Masters of Environmental Data Science, 2023, ericabishop@ucsb.edu\n"
   ]
  },
  {
   "cell_type": "markdown",
   "id": "1e8c2013-fef1-44ac-bb00-3215807cacac",
   "metadata": {},
   "source": [
    "## Table of Contents\n",
    "\n",
    "[1. Purpose](#purpose)\n",
    "\n",
    "[2. Dataset Description](#overview)\n",
    "\n",
    "[3. Data I/O](#io)\n",
    "\n",
    "[4. Metadata Display and Basic Visualization](#display)\n",
    "\n",
    "[5. Use Case Examples](#usecases)\n",
    "\n",
    "[6. References](#references)"
   ]
  },
  {
   "cell_type": "markdown",
   "id": "ba52c6e3-3584-48be-b500-21578b61bd72",
   "metadata": {},
   "source": [
    "<a id='purpose'></a> \n",
    "### Notebook Purpose\n",
    "\n",
    "We are creating this notebook to: \n",
    "- Explain the contents of iNaturalist data: what data is collected and what is the associated metadata? \n",
    "- Demonstrate how to download this data for analysis.\n",
    "- Show programmers some examples of visualizing and working with data from iNaturalist using Python.\n"
   ]
  },
  {
   "cell_type": "markdown",
   "id": "d429260a-2c30-44da-a5af-e100a440056a",
   "metadata": {},
   "source": [
    "<a id='overview'></a> \n",
    "### Dataset Description\n",
    "\n",
    "iNaturalist is a platform and social network for citizen scientists and biologists to upload photos of observed species along with the location and time collected. This dataset is a collection of iNaturalist research grade observations. Research grade observations are defined by having a photo, date, and coordinate provided and the community agrees upon the identification. iNaturalist users can identify the species in the photo based on previous users’ uploads and community input [1]. \n",
    "\n",
    "This dataset was created and hosted by iNaturalist, an initiative by the California Academy of Sciences and National Geographic Society. It is also hosted on GBIF. GBIF, according to its website, \"is an international network and data infrastructure funded by the world’s governments and aimed at providing anyone, anywhere, open access to data about all types of life on Earth.” The standardized data in GBIF allows anyone in the world to access high quality ecological data [2].\n",
    "\n",
    "The iNaturalist dataset’s temporal span is from 1768 to present. Older data is based on historical records. The iNaturalist app was created in 2008, and people with iPhones have uploaded their own data via the app in recent years. iNaturalist data covers the entire globe [1].\n",
    "\n",
    "Some issues with data quality are highlighted by tags on the download report. Some of these issues include matching taxon to the correct identification, matching incorrect countries and coordinates, or multimedia date invalidities [2].\n"
   ]
  },
  {
   "cell_type": "markdown",
   "id": "585f2379-2a46-44c7-ab60-d3e1a40b5db8",
   "metadata": {},
   "source": [
    "<a id='io'></a> \n",
    "### Dataset Input/Output \n",
    "\n",
    "There are a few different ways that we can access iNaturalist data. iNaturalist does manage an export feature on their website, but they note that large exports slow down their infrastructure. Their top recommendation for exporting data is to use GBIF. The file format used to store the data is a tab-delimited CSV.\n",
    "\n",
    "To access data from GBIF you first need to set up an account. You can use your GitHub account to set this up. After you've created an account, you have two options for downloading data, the GBIF API or a file download.\n",
    "\n",
    "**How to use the API**\n",
    "\n",
    "The GBIF API is relatively easy to use. The prerequisity `pygbif` package for importing data into a python envionrment is already instealled in the Python 3 kernel on Taylor. The API includes several different modules that you can use to search and query data. The examples below show how to use the `species` module or the `occurences` module to get iNaturalist data on Adelie penguins.\n",
    "\n",
    "There are many arguments you can use to query data from the API, and data is returned as a dictionary. Checkout the [pygbif 0.6.1 documentation](https://pygbif.readthedocs.io/en/latest/index.html) for more query examples [3]."
   ]
  },
  {
   "cell_type": "code",
   "execution_count": 2,
   "id": "81c5d02b-aa15-444f-88b9-237120813eaa",
   "metadata": {},
   "outputs": [],
   "source": [
    "import pygbif #package to interface with GBIF API - this is preloaded on the Python3 kernel on taylor\n",
    "from pygbif import species #can call specific modules for searching\n",
    "from pygbif import occurrences as occ #easier to rename this for shorter coding in the use cases below\n",
    "adeliae_dict = species.name_lookup(institution_code=\"iNaturalist\", q='Pygoscelis adeliae') #using the species lookup"
   ]
  },
  {
   "cell_type": "markdown",
   "id": "f56201e1-0227-4508-8019-876bb6826abc",
   "metadata": {},
   "source": [
    "**How to download files from GBIF**\n",
    "\n",
    "For easily importing data you're interested in, you may want to download a TSV file from GBIF."
   ]
  },
  {
   "cell_type": "markdown",
   "id": "cc65486b-33fe-4e97-a569-2d8de5502da1",
   "metadata": {},
   "source": [
    "**Reading in data to your environment**\n",
    "\n",
    "1) Import necessary packages"
   ]
  },
  {
   "cell_type": "code",
   "execution_count": 5,
   "id": "5ef660ef-b764-4825-85d1-f2f04f7895e1",
   "metadata": {},
   "outputs": [],
   "source": [
    "import pandas as pd\n",
    "import matplotlib.pyplot as plt\n",
    "import numpy as np\n",
    "from zipfile import ZipFile\n",
    "import cartopy\n",
    "import cartopy.crs as ccrs"
   ]
  },
  {
   "cell_type": "markdown",
   "id": "637ad9bc-3430-47e0-ac08-b4946c5152be",
   "metadata": {},
   "source": [
    "2) Parameters for our data\n",
    "\n",
    "Our iNaturalist data:\n",
    "- names of any directories where data are stored\n",
    "- ranges of years over which data are valid\n",
    "- any thresholds or latitude/longitude ranges to be used later (e.g. dimensions of NINO3.4 region, threshold SSTA values for El Nino, etc.)\n",
    "\n",
    "3) Read in the data:"
   ]
  },
  {
   "cell_type": "code",
   "execution_count": 6,
   "id": "11c5d596-92eb-4188-801d-604c8b3bb760",
   "metadata": {},
   "outputs": [],
   "source": [
    "sb_inat = pd.read_csv(\"/courses/EDS214/EDS220_gbffs/inat_sb_recent.csv\", sep = '\\t') #make sure to update the file path to where your data is stored\n"
   ]
  },
  {
   "cell_type": "markdown",
   "id": "30253e61-0707-4540-9c86-9afc6df27958",
   "metadata": {},
   "source": [
    "<a id='display'></a> \n",
    "### Metadata Display and Basic Visualization\n",
    "\n",
    "iNaturalist data downloaded from GBIF contains 50 columns of identifying information for observations, including taxonomic information, location information, date, and information on the observer. The code cells below will help you investigate what's included in the subset of iNaturalist data from Santa Barbara that we downloaded. "
   ]
  },
  {
   "cell_type": "code",
   "execution_count": 3,
   "id": "511b3b34-9dc5-4ee1-999b-c8547208c888",
   "metadata": {},
   "outputs": [
    {
     "name": "stdout",
     "output_type": "stream",
     "text": [
      "       gbifID                            datasetKey  \\\n",
      "0  1703218988  50c9509d-22c7-4a22-a47d-8c48425ef4a7   \n",
      "1  2542877676  50c9509d-22c7-4a22-a47d-8c48425ef4a7   \n",
      "2  2236229147  50c9509d-22c7-4a22-a47d-8c48425ef4a7   \n",
      "3  2826332347  50c9509d-22c7-4a22-a47d-8c48425ef4a7   \n",
      "4  2963805574  50c9509d-22c7-4a22-a47d-8c48425ef4a7   \n",
      "\n",
      "                                        occurrenceID   kingdom        phylum  \\\n",
      "0   https://www.inaturalist.org/observations/8964710   Plantae  Tracheophyta   \n",
      "1  https://www.inaturalist.org/observations/14123375   Plantae  Tracheophyta   \n",
      "2  https://www.inaturalist.org/observations/22100520   Plantae  Tracheophyta   \n",
      "3  https://www.inaturalist.org/observations/54560051  Animalia    Arthropoda   \n",
      "4  https://www.inaturalist.org/observations/63292703  Animalia      Chordata   \n",
      "\n",
      "           class          order       family        genus  \\\n",
      "0  Magnoliopsida        Rosales     Rosaceae  Heteromeles   \n",
      "1  Magnoliopsida       Lamiales    Lamiaceae  Trichostema   \n",
      "2  Magnoliopsida     Oxalidales  Oxalidaceae       Oxalis   \n",
      "3        Insecta    Hymenoptera       Apidae       Bombus   \n",
      "4           Aves  Passeriformes     Laniidae       Lanius   \n",
      "\n",
      "                   species  ...        identifiedBy       dateIdentified  \\\n",
      "0  Heteromeles arbutifolia  ...  David Vander Pluym  2017-11-28T16:16:36   \n",
      "1      Trichostema lanatum  ...        Krissa Klein  2019-12-31T08:40:45   \n",
      "2        Oxalis pes-caprae  ...           Jim Riley  2019-04-06T17:58:04   \n",
      "3      Bombus vosnesenskii  ...               Carlo  2020-07-27T20:03:46   \n",
      "4      Lanius ludovicianus  ...       Dustin Harris  2020-10-23T02:50:46   \n",
      "\n",
      "        license        rightsHolder          recordedBy typeStatus  \\\n",
      "0  CC_BY_NC_4_0  David Vander Pluym  David Vander Pluym        NaN   \n",
      "1  CC_BY_NC_4_0             dennis1             dennis1        NaN   \n",
      "2  CC_BY_NC_4_0           Jim Riley           Jim Riley        NaN   \n",
      "3  CC_BY_NC_4_0               Carlo               Carlo        NaN   \n",
      "4  CC_BY_NC_4_0       Dustin Harris       Dustin Harris        NaN   \n",
      "\n",
      "   establishmentMeans           lastInterpreted  \\\n",
      "0                 NaN  2022-11-11T17:31:27.950Z   \n",
      "1                 NaN  2022-11-11T17:31:37.445Z   \n",
      "2                 NaN  2022-11-11T17:31:49.498Z   \n",
      "3                 NaN  2022-11-11T17:32:46.231Z   \n",
      "4                 NaN  2022-11-11T17:33:03.132Z   \n",
      "\n",
      "                                     mediaType               issue  \n",
      "0             StillImage;StillImage;StillImage  COORDINATE_ROUNDED  \n",
      "1                        StillImage;StillImage  COORDINATE_ROUNDED  \n",
      "2                                   StillImage  COORDINATE_ROUNDED  \n",
      "3  StillImage;StillImage;StillImage;StillImage  COORDINATE_ROUNDED  \n",
      "4                        StillImage;StillImage  COORDINATE_ROUNDED  \n",
      "\n",
      "[5 rows x 50 columns]\n",
      "            gbifID                            datasetKey  \\\n",
      "141416  2984487683  50c9509d-22c7-4a22-a47d-8c48425ef4a7   \n",
      "141417  2350363147  50c9509d-22c7-4a22-a47d-8c48425ef4a7   \n",
      "141418  2563434890  50c9509d-22c7-4a22-a47d-8c48425ef4a7   \n",
      "141419  3302538816  50c9509d-22c7-4a22-a47d-8c48425ef4a7   \n",
      "141420  3743229188  50c9509d-22c7-4a22-a47d-8c48425ef4a7   \n",
      "\n",
      "                                             occurrenceID   kingdom  \\\n",
      "141416  https://www.inaturalist.org/observations/64462392   Plantae   \n",
      "141417  https://www.inaturalist.org/observations/30580826  Animalia   \n",
      "141418  https://www.inaturalist.org/observations/18214250  Animalia   \n",
      "141419  https://www.inaturalist.org/observations/82084744  Animalia   \n",
      "141420  https://www.inaturalist.org/observations/10882...   Plantae   \n",
      "\n",
      "              phylum          class          order         family  \\\n",
      "141416  Tracheophyta  Magnoliopsida      Asterales     Asteraceae   \n",
      "141417      Chordata           Aves  Columbiformes     Columbidae   \n",
      "141418    Arthropoda      Arachnida        Araneae  Theraphosidae   \n",
      "141419      Chordata           Aves  Passeriformes     Tyrannidae   \n",
      "141420  Tracheophyta  Magnoliopsida      Asterales     Asteraceae   \n",
      "\n",
      "                genus                   species  ...        identifiedBy  \\\n",
      "141416  Stephanomeria  Stephanomeria pauciflora  ...         Tracy Drake   \n",
      "141417        Columba             Columba livia  ...           Omar Ruiz   \n",
      "141418    Aphonopelma        Aphonopelma iodius  ...  Danniella Sherwood   \n",
      "141419       Sayornis        Sayornis nigricans  ...       George Afghan   \n",
      "141420        Encelia       Encelia californica  ...          Kristi Liu   \n",
      "\n",
      "             dateIdentified       license   rightsHolder     recordedBy  \\\n",
      "141416  2020-11-09T18:52:15  CC_BY_NC_4_0    Tracy Drake    Tracy Drake   \n",
      "141417  2019-08-11T00:55:24  CC_BY_NC_4_0      Omar Ruiz      Omar Ruiz   \n",
      "141418  2018-11-07T17:29:51  CC_BY_NC_4_0   Michelle Gee   Michelle Gee   \n",
      "141419  2021-06-07T22:16:24  CC_BY_NC_4_0  George Afghan  George Afghan   \n",
      "141420  2022-03-17T21:09:11  CC_BY_NC_4_0     Kristi Liu     Kristi Liu   \n",
      "\n",
      "       typeStatus  establishmentMeans           lastInterpreted  \\\n",
      "141416        NaN                 NaN  2022-11-11T17:33:13.480Z   \n",
      "141417        NaN                 NaN  2022-11-11T17:32:08.008Z   \n",
      "141418        NaN                 NaN  2022-11-11T17:35:20.603Z   \n",
      "141419        NaN                 NaN  2022-11-11T17:37:22.477Z   \n",
      "141420        NaN                 NaN  2022-11-11T17:38:12.413Z   \n",
      "\n",
      "                    mediaType               issue  \n",
      "141416  StillImage;StillImage  COORDINATE_ROUNDED  \n",
      "141417             StillImage  COORDINATE_ROUNDED  \n",
      "141418             StillImage  COORDINATE_ROUNDED  \n",
      "141419             StillImage  COORDINATE_ROUNDED  \n",
      "141420  StillImage;StillImage  COORDINATE_ROUNDED  \n",
      "\n",
      "[5 rows x 50 columns]\n",
      "(141421, 50)\n"
     ]
    }
   ],
   "source": [
    "#explore the data\n",
    "print(sb_inat.head())\n",
    "print(sb_inat.tail())\n",
    "print(sb_inat.shape)"
   ]
  },
  {
   "cell_type": "code",
   "execution_count": 4,
   "id": "16c600de-7919-4921-9109-533162bd6ee2",
   "metadata": {},
   "outputs": [
    {
     "data": {
      "text/plain": [
       "['gbifID',\n",
       " 'datasetKey',\n",
       " 'occurrenceID',\n",
       " 'kingdom',\n",
       " 'phylum',\n",
       " 'class',\n",
       " 'order',\n",
       " 'family',\n",
       " 'genus',\n",
       " 'species',\n",
       " 'infraspecificEpithet',\n",
       " 'taxonRank',\n",
       " 'scientificName',\n",
       " 'verbatimScientificName',\n",
       " 'verbatimScientificNameAuthorship',\n",
       " 'countryCode',\n",
       " 'locality',\n",
       " 'stateProvince',\n",
       " 'occurrenceStatus',\n",
       " 'individualCount',\n",
       " 'publishingOrgKey',\n",
       " 'decimalLatitude',\n",
       " 'decimalLongitude',\n",
       " 'coordinateUncertaintyInMeters',\n",
       " 'coordinatePrecision',\n",
       " 'elevation',\n",
       " 'elevationAccuracy',\n",
       " 'depth',\n",
       " 'depthAccuracy',\n",
       " 'eventDate',\n",
       " 'day',\n",
       " 'month',\n",
       " 'year',\n",
       " 'taxonKey',\n",
       " 'speciesKey',\n",
       " 'basisOfRecord',\n",
       " 'institutionCode',\n",
       " 'collectionCode',\n",
       " 'catalogNumber',\n",
       " 'recordNumber',\n",
       " 'identifiedBy',\n",
       " 'dateIdentified',\n",
       " 'license',\n",
       " 'rightsHolder',\n",
       " 'recordedBy',\n",
       " 'typeStatus',\n",
       " 'establishmentMeans',\n",
       " 'lastInterpreted',\n",
       " 'mediaType',\n",
       " 'issue']"
      ]
     },
     "execution_count": 4,
     "metadata": {},
     "output_type": "execute_result"
    }
   ],
   "source": [
    "#look at just the columns\n",
    "list(sb_inat.columns)"
   ]
  },
  {
   "cell_type": "code",
   "execution_count": 5,
   "id": "24c11d4a-852a-469d-bbc9-6f810ffa86b6",
   "metadata": {},
   "outputs": [
    {
     "name": "stdout",
     "output_type": "stream",
     "text": [
      "4581\n"
     ]
    }
   ],
   "source": [
    "#look at how many species\n",
    "print(len(sb_inat['species'].unique()))"
   ]
  },
  {
   "cell_type": "code",
   "execution_count": 10,
   "id": "0abf5866-588f-4c0f-b4af-872696cdfbb8",
   "metadata": {},
   "outputs": [
    {
     "data": {
      "text/plain": [
       "0    Heteromeles arbutifolia\n",
       "1        Trichostema lanatum\n",
       "2          Oxalis pes-caprae\n",
       "3        Bombus vosnesenskii\n",
       "4        Lanius ludovicianus\n",
       "Name: species, dtype: object"
      ]
     },
     "execution_count": 10,
     "metadata": {},
     "output_type": "execute_result"
    }
   ],
   "source": [
    "#investigate the species\n",
    "sb_species = sb_inat['species']\n",
    "sb_species.head()"
   ]
  },
  {
   "cell_type": "code",
   "execution_count": 11,
   "id": "3f14f2ea-8a4d-4a47-a7b7-889e1c338ddf",
   "metadata": {},
   "outputs": [
    {
     "name": "stdout",
     "output_type": "stream",
     "text": [
      "1590\n"
     ]
    }
   ],
   "source": [
    "#see how many plants there are!\n",
    "sb_plants = sb_inat[sb_inat['kingdom'] == \"Plantae\"]\n",
    "print(len(sb_plants['species'].unique()))"
   ]
  },
  {
   "cell_type": "code",
   "execution_count": 12,
   "id": "8225c499-85e0-401d-b31b-fe7723c247ad",
   "metadata": {},
   "outputs": [
    {
     "name": "stdout",
     "output_type": "stream",
     "text": [
      "2596\n"
     ]
    }
   ],
   "source": [
    "\n",
    "#what about ANIMALS?\n",
    "sb_animals = sb_inat[sb_inat['kingdom'] == \"Animalia\"]\n",
    "print(len(sb_animals['species'].unique())) #more animal observations!"
   ]
  },
  {
   "cell_type": "code",
   "execution_count": 13,
   "id": "092a1a59-0d52-449b-b5a3-acfa0470caf8",
   "metadata": {},
   "outputs": [],
   "source": [
    "#filter tarantula species to plot\n",
    "tarantulas = sb_inat.loc[sb_inat['family'] == \"Theraphosidae\"]"
   ]
  },
  {
   "cell_type": "code",
   "execution_count": 14,
   "id": "0af28195-afbf-43da-add7-47e2d2b9cfa6",
   "metadata": {},
   "outputs": [
    {
     "data": {
      "text/plain": [
       "<AxesSubplot: >"
      ]
     },
     "execution_count": 14,
     "metadata": {},
     "output_type": "execute_result"
    },
    {
     "data": {
      "image/png": "[encoded data removed]",
      "text/plain": [
       "<Figure size 640x480 with 1 Axes>"
      ]
     },
     "metadata": {},
     "output_type": "display_data"
    }
   ],
   "source": [
    "#basic plot: number of tarantula species observations\n",
    "\n",
    "tarantulas['species'].value_counts().plot(kind = 'barh')\n"
   ]
  },
  {
   "cell_type": "markdown",
   "id": "62354cdf-609f-487d-be51-9ea306997a69",
   "metadata": {},
   "source": [
    "<a id='usecases'></a> \n",
    "## Use Case Examples"
   ]
  },
  {
   "cell_type": "markdown",
   "id": "2c9f3bae-72bd-4843-b531-fc34a801a884",
   "metadata": {},
   "source": [
    "### Example: Filtering data for species within some distance from a point\n",
    "\n",
    "iNaturalist datapoints contain spatial information in the form of decimal latitude and longitude. Users may wonder how frequently a species has been seen near a specific location. Some example uses for this application of iNaturalist data include: \n",
    "* An open space manager wonders if native plant restoration is successfully attracting wildlife, so she'd like to see if certain species have been spotted within the site. \n",
    "* A potential property owner is curious if certain predatory species have been spotted near this property. \n",
    "* A bird watching enthusiast is curious what different bird species have been seen within walking distance from their home.\n",
    "\n",
    "**In this example, we'll be answering a question that I'm sure is on many of your minds: how many tarantula sightings have been reported within 1 mile of Bren Hall since the iNaturalist app launched in 2008?** "
   ]
  },
  {
   "cell_type": "code",
   "execution_count": 1,
   "id": "d81cdcdf-6e0d-4bc8-9b61-e9a5b582220c",
   "metadata": {},
   "outputs": [],
   "source": [
    "import shapely \n",
    "import geopandas as gpd\n",
    "import pandas as pd\n",
    "\n",
    "# Repeated--- read in the data! \n",
    "sb_inat = pd.read_csv(\"/courses/EDS214/EDS220_gbffs/inat_sb_recent.csv\", sep = '\\t') #make sure to update the file path to where your data is stored\n",
    "\n",
    "# Remember our tarantulas object from our first visualization! \n",
    "tarantulas = sb_inat.loc[sb_inat['family'] == \"Theraphosidae\"]"
   ]
  },
  {
   "cell_type": "code",
   "execution_count": 2,
   "id": "0b355211-f7ad-4845-ab6a-315aa5b49fbe",
   "metadata": {},
   "outputs": [
    {
     "name": "stderr",
     "output_type": "stream",
     "text": [
      "/opt/python/3.10.5/lib/python3.10/site-packages/pyproj/crs/crs.py:141: FutureWarning: '+init=<authority>:<code>' syntax is deprecated. '<authority>:<code>' is the preferred initialization method. When making the change, be mindful of axis order changes: https://pyproj4.github.io/pyproj/stable/gotchas.html#axis-order-changes-in-proj-6\n",
      "  in_crs_string = _prepare_from_proj_string(in_crs_string)\n"
     ]
    }
   ],
   "source": [
    "# Using shapely, create geometries from your lat-lons\n",
    "geom_list = [shapely.geometry.Point(lon,lat) for lon,lat in zip(tarantulas[\"decimalLongitude\"] , tarantulas[\"decimalLatitude\"])] # check the ordering of lon/lat\n",
    "\n",
    "# Create GeoPandas geodataframe\n",
    "tarantulas_gdf = gpd.GeoDataFrame(tarantulas, geometry=geom_list, crs={\"init\":\"EPSG:4326\"})"
   ]
  },
  {
   "cell_type": "code",
   "execution_count": 5,
   "id": "77c2defb-7fc8-4490-bb7f-602ff3a5a43c",
   "metadata": {},
   "outputs": [
    {
     "data": {
      "text/plain": [
       "<Geographic 2D CRS: +init=epsg:4326 +type=crs>\n",
       "Name: WGS 84\n",
       "Axis Info [ellipsoidal]:\n",
       "- lon[east]: Longitude (degree)\n",
       "- lat[north]: Latitude (degree)\n",
       "Area of Use:\n",
       "- name: World.\n",
       "- bounds: (-180.0, -90.0, 180.0, 90.0)\n",
       "Datum: World Geodetic System 1984 ensemble\n",
       "- Ellipsoid: WGS 84\n",
       "- Prime Meridian: Greenwich"
      ]
     },
     "execution_count": 5,
     "metadata": {},
     "output_type": "execute_result"
    }
   ],
   "source": [
    "# Lets look at this CRS\n",
    "\n",
    "tarantulas_gdf.crs # it's in degrees, we want it in meters! we should reproject it"
   ]
  },
  {
   "cell_type": "code",
   "execution_count": 6,
   "id": "a03c0e98-e5d4-491c-aaad-fc903331c686",
   "metadata": {},
   "outputs": [
    {
     "data": {
      "text/plain": [
       "<Derived Projected CRS: EPSG:6423>\n",
       "Name: NAD83(2011) / California zone 5\n",
       "Axis Info [cartesian]:\n",
       "- X[east]: Easting (metre)\n",
       "- Y[north]: Northing (metre)\n",
       "Area of Use:\n",
       "- name: United States (USA) - California - counties Kern; Los Angeles; San Bernardino; San Luis Obispo; Santa Barbara; Ventura.\n",
       "- bounds: (-121.42, 32.76, -114.12, 35.81)\n",
       "Coordinate Operation:\n",
       "- name: SPCS83 California zone 5 (meters)\n",
       "- method: Lambert Conic Conformal (2SP)\n",
       "Datum: NAD83 (National Spatial Reference System 2011)\n",
       "- Ellipsoid: GRS 1980\n",
       "- Prime Meridian: Greenwich"
      ]
     },
     "execution_count": 6,
     "metadata": {},
     "output_type": "execute_result"
    }
   ],
   "source": [
    "tarantulas_rpj = tarantulas_gdf.to_crs(\"EPSG:6423\") # NAD83 California Zone 5-- includes SB\n",
    "\n",
    "tarantulas_rpj.crs # now the unit of measurement is in meters! "
   ]
  },
  {
   "cell_type": "code",
   "execution_count": 7,
   "id": "2dea9825-57a5-4039-b402-cc2ebe8febc7",
   "metadata": {},
   "outputs": [
    {
     "name": "stdout",
     "output_type": "stream",
     "text": [
      "Empty GeoDataFrame\n",
      "Columns: [gbifID, datasetKey, occurrenceID, kingdom, phylum, class, order, family, genus, species, infraspecificEpithet, taxonRank, scientificName, verbatimScientificName, verbatimScientificNameAuthorship, countryCode, locality, stateProvince, occurrenceStatus, individualCount, publishingOrgKey, decimalLatitude, decimalLongitude, coordinateUncertaintyInMeters, coordinatePrecision, elevation, elevationAccuracy, depth, depthAccuracy, eventDate, day, month, year, taxonKey, speciesKey, basisOfRecord, institutionCode, collectionCode, catalogNumber, recordNumber, identifiedBy, dateIdentified, license, rightsHolder, recordedBy, typeStatus, establishmentMeans, lastInterpreted, mediaType, issue, geometry]\n",
      "Index: []\n",
      "\n",
      "[0 rows x 51 columns]\n"
     ]
    },
    {
     "name": "stderr",
     "output_type": "stream",
     "text": [
      "/opt/python/3.10.5/lib/python3.10/site-packages/pyproj/crs/crs.py:141: FutureWarning: '+init=<authority>:<code>' syntax is deprecated. '<authority>:<code>' is the preferred initialization method. When making the change, be mindful of axis order changes: https://pyproj4.github.io/pyproj/stable/gotchas.html#axis-order-changes-in-proj-6\n",
      "  in_crs_string = _prepare_from_proj_string(in_crs_string)\n"
     ]
    }
   ],
   "source": [
    "# Create a GeoDataFrame with a point at Bren Hall. \n",
    "# Start with a DataFrame...\n",
    "ucsb_df = pd.DataFrame(\n",
    "    {'Location': ['Bren Hall'],\n",
    "     'Latitude': [34.413059],\n",
    "     'Longitude': [-119.841826]})\n",
    "\n",
    "# Then use that DataFrame to make a GeoDataFrame\n",
    "ucsb_gdf = gpd.GeoDataFrame(\n",
    "    ucsb_df, geometry=gpd.points_from_xy(ucsb_df.Longitude, ucsb_df.Latitude), crs={\"init\":\"EPSG:4326\"})\n",
    "\n",
    "# Reproject this GDF to the same CRS as tarantulas_rpj--- this will allow us to do calculations in meters.\n",
    "ucsb_gdf = ucsb_gdf.to_crs(\"EPSG:6423\")\n",
    "\n",
    "# Create a buffer around Bren at 1 mile\n",
    "\n",
    "ucsb_buffer_1mile = ucsb_gdf.buffer(1609).unary_union # in meters\n",
    "\n",
    "not_friendly_neighbors = tarantulas_rpj[\"geometry\"].intersection(ucsb_buffer_1mile)\n",
    "\n",
    "# print all the nearby points\n",
    "print(tarantulas_rpj[~not_friendly_neighbors.is_empty]) # Yay! No tarantulas within a mile! "
   ]
  },
  {
   "cell_type": "code",
   "execution_count": 8,
   "id": "df8c4c63-7a46-4275-afc1-a6b7032211f8",
   "metadata": {},
   "outputs": [
    {
     "name": "stdout",
     "output_type": "stream",
     "text": [
      "8\n"
     ]
    }
   ],
   "source": [
    "# Lets try 10 miles. A healthier distance. \n",
    "\n",
    "ucsb_buffer_10miles = ucsb_gdf.buffer(16094).unary_union # in meters\n",
    "\n",
    "friendly_neighbors = tarantulas_rpj[\"geometry\"].intersection(ucsb_buffer_10miles) \n",
    "\n",
    "print(len(tarantulas_rpj[~friendly_neighbors.is_empty])) # there are 8! "
   ]
  },
  {
   "cell_type": "code",
   "execution_count": 9,
   "id": "daaeb3d4-3d1a-41d2-9727-d6d862344c00",
   "metadata": {},
   "outputs": [
    {
     "name": "stdout",
     "output_type": "stream",
     "text": [
      "            gbifID                            datasetKey  \\\n",
      "7013    2563466165  50c9509d-22c7-4a22-a47d-8c48425ef4a7   \n",
      "11666   2826483417  50c9509d-22c7-4a22-a47d-8c48425ef4a7   \n",
      "51240   2573835426  50c9509d-22c7-4a22-a47d-8c48425ef4a7   \n",
      "55444   2423254234  50c9509d-22c7-4a22-a47d-8c48425ef4a7   \n",
      "73228   3902868754  50c9509d-22c7-4a22-a47d-8c48425ef4a7   \n",
      "101186  1899775478  50c9509d-22c7-4a22-a47d-8c48425ef4a7   \n",
      "101272  3399221468  50c9509d-22c7-4a22-a47d-8c48425ef4a7   \n",
      "141418  2563434890  50c9509d-22c7-4a22-a47d-8c48425ef4a7   \n",
      "\n",
      "                                             occurrenceID   kingdom  \\\n",
      "7013    https://www.inaturalist.org/observations/33991504  Animalia   \n",
      "11666   https://www.inaturalist.org/observations/54586761  Animalia   \n",
      "51240   https://www.inaturalist.org/observations/37080214  Animalia   \n",
      "55444      http://www.inaturalist.org/observations/450846  Animalia   \n",
      "73228   https://www.inaturalist.org/observations/13229...  Animalia   \n",
      "101186  https://www.inaturalist.org/observations/15902415  Animalia   \n",
      "101272  https://www.inaturalist.org/observations/98670107  Animalia   \n",
      "141418  https://www.inaturalist.org/observations/18214250  Animalia   \n",
      "\n",
      "            phylum      class    order         family        genus  \\\n",
      "7013    Arthropoda  Arachnida  Araneae  Theraphosidae  Aphonopelma   \n",
      "11666   Arthropoda  Arachnida  Araneae  Theraphosidae  Aphonopelma   \n",
      "51240   Arthropoda  Arachnida  Araneae  Theraphosidae  Aphonopelma   \n",
      "55444   Arthropoda  Arachnida  Araneae  Theraphosidae  Aphonopelma   \n",
      "73228   Arthropoda  Arachnida  Araneae  Theraphosidae  Aphonopelma   \n",
      "101186  Arthropoda  Arachnida  Araneae  Theraphosidae  Aphonopelma   \n",
      "101272  Arthropoda  Arachnida  Araneae  Theraphosidae  Aphonopelma   \n",
      "141418  Arthropoda  Arachnida  Araneae  Theraphosidae  Aphonopelma   \n",
      "\n",
      "                          species  ...       dateIdentified       license  \\\n",
      "7013           Aphonopelma iodius  ...  2019-10-07T09:59:46  CC_BY_NC_4_0   \n",
      "11666          Aphonopelma iodius  ...  2020-07-28T01:12:53  CC_BY_NC_4_0   \n",
      "51240   Aphonopelma steindachneri  ...  2019-12-30T23:37:48  CC_BY_NC_4_0   \n",
      "55444          Aphonopelma iodius  ...  2017-05-21T06:31:57  CC_BY_NC_4_0   \n",
      "73228   Aphonopelma steindachneri  ...  2022-08-25T17:16:19  CC_BY_NC_4_0   \n",
      "101186  Aphonopelma steindachneri  ...  2018-08-26T10:27:21  CC_BY_NC_4_0   \n",
      "101272  Aphonopelma steindachneri  ...  2021-10-19T02:58:59  CC_BY_NC_4_0   \n",
      "141418         Aphonopelma iodius  ...  2018-11-07T17:29:51  CC_BY_NC_4_0   \n",
      "\n",
      "            rightsHolder        recordedBy  typeStatus establishmentMeans  \\\n",
      "7013             oasaleh           oasaleh         NaN                NaN   \n",
      "11666    Pamella Passaro   Pamella Passaro         NaN                NaN   \n",
      "51240   plants_bugs_dirt  plants_bugs_dirt         NaN                NaN   \n",
      "55444            margele           margele         NaN                NaN   \n",
      "73228            L Emard           L Emard         NaN                NaN   \n",
      "101186     Francis Joyce     Francis Joyce         NaN                NaN   \n",
      "101272       Max Roberts       Max Roberts         NaN                NaN   \n",
      "141418      Michelle Gee      Michelle Gee         NaN                NaN   \n",
      "\n",
      "                 lastInterpreted                                    mediaType  \\\n",
      "7013    2022-11-11T17:32:13.501Z  StillImage;StillImage;StillImage;StillImage   \n",
      "11666   2022-11-11T17:36:15.298Z                                   StillImage   \n",
      "51240   2022-11-11T17:32:17.970Z             StillImage;StillImage;StillImage   \n",
      "55444   2022-11-11T17:30:58.592Z                                   StillImage   \n",
      "73228   2022-11-11T17:34:48.240Z  StillImage;StillImage;StillImage;StillImage   \n",
      "101186  2022-11-11T17:35:14.476Z                                   StillImage   \n",
      "101272  2022-11-11T17:34:12.539Z                        StillImage;StillImage   \n",
      "141418  2022-11-11T17:35:20.603Z                                   StillImage   \n",
      "\n",
      "                     issue                        geometry  \n",
      "7013    COORDINATE_ROUNDED  POINT (1838083.714 607598.964)  \n",
      "11666   COORDINATE_ROUNDED  POINT (1843906.512 603461.624)  \n",
      "51240                  NaN  POINT (1844911.696 607554.762)  \n",
      "55444   COORDINATE_ROUNDED  POINT (1833890.850 617171.278)  \n",
      "73228   COORDINATE_ROUNDED  POINT (1837792.449 607857.686)  \n",
      "101186  COORDINATE_ROUNDED  POINT (1842753.818 609279.202)  \n",
      "101272  COORDINATE_ROUNDED  POINT (1838064.626 608092.984)  \n",
      "141418  COORDINATE_ROUNDED  POINT (1842895.631 607451.276)  \n",
      "\n",
      "[8 rows x 51 columns]\n"
     ]
    }
   ],
   "source": [
    "# print all the nearby points--- we want the rows that AREN'T empty, hence the ~ \n",
    "print(tarantulas_rpj[~friendly_neighbors.is_empty])"
   ]
  },
  {
   "cell_type": "markdown",
   "id": "807f55b5-cc83-4cad-9b72-e8984f552b00",
   "metadata": {},
   "source": [
    "### Example: Investigating possible sources of bias in iNaturalist Data\n",
    "\n",
    "Citizen science data like iNaturalist data is a great way to make environmenal data more widely available. Despite widespread hesitation about using citizen science in the scientific community, it's quality holds up to that of professionally gathered data [4]. \n",
    "\n",
    "However, iNaturalist data must be used with caution when analyzing species frequence and distribution because the collection processes is influenced by who the iNaturalist users are and where they are. \n",
    "\n",
    "The code chunks below demonstrate how you can identify some of the biases within iNaturalist data.\n"
   ]
  },
  {
   "cell_type": "code",
   "execution_count": 11,
   "id": "1b71b4b9-33aa-4a1d-9c6a-51074379ec55",
   "metadata": {},
   "outputs": [
    {
     "name": "stdout",
     "output_type": "stream",
     "text": [
      "There's 5724 iNaturalist users who've recorded observations in the Santa Barbara area!\n"
     ]
    }
   ],
   "source": [
    "print(\"There's\", len(sb_inat['recordedBy'].unique()), \"iNaturalist users who've recorded observations in the Santa Barbara area!\")"
   ]
  },
  {
   "cell_type": "markdown",
   "id": "c8d7395e-293d-4861-94a1-d399ccc2a654",
   "metadata": {},
   "source": [
    "Of tthe 5,724 different users who've recorded observations, is there an equal distribution or are most of the total observations coming from just some users? In addition to running some summary statistics, we can make a histogram to show who the top users are. The histogram below is truncated to show just the top 20 users to make it more legible. We can see that the top users are adding thousands of iNaturalist data entries! We can also see that the average number of observations in our data subset is 2,274."
   ]
  },
  {
   "cell_type": "code",
   "execution_count": 16,
   "id": "99fe4e94-ed0d-427d-8c3e-75d8f7efb9df",
   "metadata": {},
   "outputs": [
    {
     "name": "stdout",
     "output_type": "stream",
     "text": [
      "The average number of observations made per user in our dataset is 2274.4 and the highest number of observations made is 4828\n"
     ]
    },
    {
     "data": {
      "image/png": "[encoded data removed]",
      "text/plain": [
       "<Figure size 640x480 with 1 Axes>"
      ]
     },
     "metadata": {},
     "output_type": "display_data"
    }
   ],
   "source": [
    "top_recorders = sb_inat.recordedBy.value_counts()[:20] # count observations for each user and return 20 most active\n",
    "\n",
    "top_recorders.plot(kind='bar')\n",
    "\n",
    "print(\"The average number of observations made per user in our dataset is\", top_recorders.mean(),\n",
    "     \"and the highest number of observations made is\", top_recorders.max())"
   ]
  },
  {
   "cell_type": "markdown",
   "id": "c62c774b-8a7c-4f47-9c07-7f9823c48473",
   "metadata": {},
   "source": [
    "<a id='references'></a> \n",
    "### References\n",
    "\n",
    "1. iNaturalist, https://www.inaturalist.org/\n",
    "2. GBIF, https://www.gbif.org/what-is-gbif\n",
    "3. pygbif 0.6.1 documentation, https://pygbif.readthedocs.io/en/latest/index.html\n",
    "4. Assessing Data Quality in Citizen Science. Kosmala et al. Front Ecol Environ 2016; 14( 10): 551– 560, doi:10.1002/fee.1436.\n"
   ]
  }
 ],
 "metadata": {
  "kernelspec": {
   "display_name": "Python 3 (ipykernel)",
   "language": "python",
   "name": "python3"
  },
  "language_info": {
   "codemirror_mode": {
    "name": "ipython",
    "version": 3
   },
   "file_extension": ".py",
   "mimetype": "text/x-python",
   "name": "python",
   "nbconvert_exporter": "python",
   "pygments_lexer": "ipython3",
   "version": "3.10.5"
  }
 },
 "nbformat": 4,
 "nbformat_minor": 5
}
