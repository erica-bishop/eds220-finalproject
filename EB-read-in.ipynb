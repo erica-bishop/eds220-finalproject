{
 "cells": [
  {
   "cell_type": "code",
   "execution_count": null,
   "id": "6fca1ece-04ac-474e-a279-4390bf9dcd5a",
   "metadata": {},
   "outputs": [],
   "source": []
  },
  {
   "cell_type": "code",
   "execution_count": null,
   "id": "29aa7eca-457a-464c-b794-bf4767694a66",
   "metadata": {},
   "outputs": [],
   "source": [
    "#import necessary packages\n",
    "import pandas as pd\n",
    "import numpy as np\n",
    "import os\n",
    "from urllib.request import urlopen\n",
    "import json\n",
    "import cartopy\n",
    "import cartopy.crs as ccrs\n",
    "import matplotlib.pyplot as plt\n",
    "from scipy import interpolate\n",
    "from scipy.interpolate import griddata"
   ]
  },
  {
   "cell_type": "markdown",
   "id": "0709457c-6990-498f-8d34-9fbac4969bac",
   "metadata": {},
   "source": [
    "Using the GBIF API to download iNaturalist data\n",
    "\n",
    "Jillian: Time range / time series of species\n",
    "\n",
    "Erica: spatial distribution of a species \n",
    "Kiran: Synthesizing iNaturalist data (counts of observations?)\n"
   ]
  },
  {
   "cell_type": "code",
   "execution_count": null,
   "id": "96f4261c-d861-4e17-a181-fd649cfb3057",
   "metadata": {},
   "outputs": [],
   "source": [
    "import pygbif\n",
    "#need to run pip install pygbif in terminal"
   ]
  },
  {
   "cell_type": "code",
   "execution_count": null,
   "id": "35fc2a2b-52cd-47b8-996c-f240be246707",
   "metadata": {},
   "outputs": [],
   "source": []
  },
  {
   "cell_type": "code",
   "execution_count": null,
   "id": "d00f6fc5-432a-4171-86e0-a8c074717372",
   "metadata": {},
   "outputs": [],
   "source": [
    "documentaton"
   ]
  },
  {
   "cell_type": "markdown",
   "id": "f158901e-1e43-4587-bbf2-6ea68fb4173a",
   "metadata": {},
   "source": [
    "doc"
   ]
  },
  {
   "cell_type": "code",
   "execution_count": null,
   "id": "db61808b-bec4-401c-bfdc-228fed97aa1b",
   "metadata": {},
   "outputs": [],
   "source": []
  },
  {
   "cell_type": "markdown",
   "id": "af322634-7c67-47fc-9242-e9c493aea8fc",
   "metadata": {},
   "source": [
    "Using iNaturalist Research - Grade Observations\n",
    "https://www.gbif.org/dataset/50c9509d-22c7-4a22-a47d-8c48425ef4a7\n",
    "\n",
    "Help for using the API: https://www.gbif.org/developer/summary\n",
    "\n"
   ]
  },
  {
   "cell_type": "code",
   "execution_count": null,
   "id": "9a3c240b-3526-4712-a628-f3bb0acf457a",
   "metadata": {},
   "outputs": [],
   "source": [
    "# Read in your token\n",
    "#iucn_token=\"9bb4facb6d23f48efbf424bb05c0c1ef1cf6f468393bc745d42179ac4aca5fee\"\n",
    "\n",
    "# Root URL for GBIF API\n",
    "gbif_url=\" https://api.gbif.org/v1/\"\n",
    "\n",
    "#don't need a token, just your username and password for your GBIF account"
   ]
  },
  {
   "cell_type": "code",
   "execution_count": null,
   "id": "2acc9ad9-9086-45d7-ad5b-995a4e8bf8da",
   "metadata": {},
   "outputs": [],
   "source": [
    "from pygbif import species\n",
    "species.name_suggest(q='Pygoscelis adeliae')\n",
    "\n",
    "#or look up within the species module using any of these commands:\n",
    "#species.name_backbone(rank=None, kingdom=None, phylum=None, clazz=None, order=None, family=None, genus=None, strict=False, verbose=False, offset=None, limit=100, **kwargs)\n",
    "\n",
    "\n",
    "# usrname = \"erica-bishop-ucsb\"\n",
    "# password = \"p@$$word\""
   ]
  },
  {
   "cell_type": "code",
   "execution_count": null,
   "id": "afce14d4-69bf-4078-bc29-9235fcdee152",
   "metadata": {},
   "outputs": [],
   "source": [
    "#Lets explore this API investigating penguins!\n",
    "# Look up names like mammalia\n",
    "species.name_lookup(q='Spheniscidae')\n",
    "\n",
    "# Paging\n",
    "species.name_lookup(q='Spheniscidae', limit=1)\n",
    "species.name_lookup(q='Spheniscidae', limit=1, offset=2)\n",
    "\n",
    "# large requests, use offset parameter\n",
    "first = species.name_lookup(q='Spheniscidae', limit=1000)\n",
    "second = species.name_lookup(q='Spheniscidae', limit=1000, offset=1000)\n",
    "\n",
    "# Get all data and parse it, removing descriptions which can be quite long\n",
    "species.name_lookup('Pygoscelis adeliae', rank=\"species\", verbose=True)\n",
    "\n",
    "# Get all data and parse it, removing descriptions field which can be quite long\n",
    "out = species.name_lookup('Pygoscelis adeliae', rank=\"species\")\n",
    "res = out['results']\n",
    "[ z.pop('descriptions', None) for z in res ]\n",
    "res\n",
    "\n",
    "# Fuzzy searching\n",
    "# species.name_lookup(q='Heli', rank=\"genus\")\n",
    "\n",
    "# # Limit records to certain number\n",
    "# species.name_lookup('Helianthus annuus', rank=\"species\", limit=2)\n",
    "\n",
    "# # Query by habitat\n",
    "# species.name_lookup(habitat = \"terrestrial\", limit=2)\n",
    "# species.name_lookup(habitat = \"marine\", limit=2)\n",
    "# species.name_lookup(habitat = \"freshwater\", limit=2)\n",
    "\n",
    "# Using faceting\n",
    "# species.name_lookup(facet='status', limit=0, facetMincount='70000')\n",
    "# species.name_lookup(facet=['status', 'higherTaxonKey'], limit=0, facetMincount='700000')\n",
    "\n",
    "# species.name_lookup(facet='nameType', limit=0)\n",
    "# species.name_lookup(facet='habitat', limit=0)\n",
    "# species.name_lookup(facet='datasetKey', limit=0)\n",
    "# species.name_lookup(facet='rank', limit=0)\n",
    "# species.name_lookup(facet='isExtinct', limit=0)\n",
    "\n",
    "# text highlighting\n",
    "species.name_lookup(q='plant', hl=True, limit=30)\n",
    "\n",
    "# Lookup by datasetKey\n",
    "species.name_lookup(datasetKey='3f8a1297-3259-4700-91fc-acc4170b27ce')"
   ]
  },
  {
   "cell_type": "code",
   "execution_count": null,
   "id": "7f8a97ac-f1e6-4978-a6a3-8183531185d0",
   "metadata": {},
   "outputs": [],
   "source": [
    "test_data_1 = species.name_lookup(institution_code=\"iNaturalist\", q='Pygoscelis adeliae')\n",
    "test_data_2 = species.name_lookup(q='Pygoscelis adeliae')\n",
    "test_data_1 == test_data_2"
   ]
  },
  {
   "cell_type": "code",
   "execution_count": null,
   "id": "91e9ad03-c94a-4319-ac67-e0a59bb7106c",
   "metadata": {},
   "outputs": [],
   "source": [
    "from pygbif import occurrences as occ"
   ]
  },
  {
   "cell_type": "code",
   "execution_count": null,
   "id": "b94ba4a3-ca84-4452-810a-091b793c69f0",
   "metadata": {},
   "outputs": [],
   "source": [
    "adelie_iNat = occ.search(institutionCode=\"iNaturalist\", limit=20)"
   ]
  },
  {
   "cell_type": "code",
   "execution_count": null,
   "id": "bb3f0bb9-f982-4487-814b-28b2ec4541eb",
   "metadata": {},
   "outputs": [],
   "source": [
    "type(adelie_iNat)"
   ]
  },
  {
   "cell_type": "code",
   "execution_count": null,
   "id": "019c2a2f-a0ae-4192-b29d-cbb9840bfc5f",
   "metadata": {},
   "outputs": [],
   "source": [
    "adelie_data = occ.search(institutionCode=\"iNaturalist\", sp"
   ]
  },
  {
   "cell_type": "markdown",
   "id": "fcb37320-83de-4da4-bcf5-a180747a4e61",
   "metadata": {},
   "source": [
    "USE CASE:"
   ]
  },
  {
   "cell_type": "code",
   "execution_count": null,
   "id": "6eba5770-7a1a-4262-81ce-5907839093d5",
   "metadata": {},
   "outputs": [],
   "source": []
  }
 ],
 "metadata": {
  "kernelspec": {
   "display_name": "Python 3 (ipykernel)",
   "language": "python",
   "name": "python3"
  },
  "language_info": {
   "codemirror_mode": {
    "name": "ipython",
    "version": 3
   },
   "file_extension": ".py",
   "mimetype": "text/x-python",
   "name": "python",
   "nbconvert_exporter": "python",
   "pygments_lexer": "ipython3",
   "version": "3.10.5"
  }
 },
 "nbformat": 4,
 "nbformat_minor": 5
}
